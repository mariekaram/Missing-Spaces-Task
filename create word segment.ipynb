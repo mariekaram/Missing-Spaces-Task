{
 "cells": [
  {
   "cell_type": "code",
   "execution_count": 1,
   "metadata": {},
   "outputs": [],
   "source": [
    "import wordsegment"
   ]
  },
  {
   "cell_type": "code",
   "execution_count": 2,
   "metadata": {},
   "outputs": [],
   "source": [
    "from wordsegment import load, segment"
   ]
  },
  {
   "cell_type": "code",
   "execution_count": 3,
   "metadata": {},
   "outputs": [],
   "source": [
    "load()"
   ]
  },
  {
   "cell_type": "code",
   "execution_count": 4,
   "metadata": {},
   "outputs": [],
   "source": [
    "file=open('missing_spaces.txt',encoding=\"UTF-8\")"
   ]
  },
  {
   "cell_type": "code",
   "execution_count": 5,
   "metadata": {},
   "outputs": [],
   "source": [
    "text1 = 'Manythousandsofacresofarablefarmlandsurroundthecity,themajorityofwhichareusedtocultivateuplandcotton.ThereisacottongininStamford,andseveralmorewithinofthecity.Otherbusinessesincludeacottondelintingplant,cottoncompress,cottonseedoilmill,clothingfactory,andgrainelevator.'"
   ]
  },
  {
   "cell_type": "code",
   "execution_count": 6,
   "metadata": {
    "scrolled": true
   },
   "outputs": [
    {
     "data": {
      "text/plain": [
       "['many',\n",
       " 'thousands',\n",
       " 'of',\n",
       " 'acres',\n",
       " 'of',\n",
       " 'arable',\n",
       " 'farmland',\n",
       " 'surround',\n",
       " 'the',\n",
       " 'city',\n",
       " 'the',\n",
       " 'majority',\n",
       " 'of',\n",
       " 'which',\n",
       " 'are',\n",
       " 'used',\n",
       " 'to',\n",
       " 'cultivate',\n",
       " 'upland',\n",
       " 'cotton',\n",
       " 'there',\n",
       " 'is',\n",
       " 'a',\n",
       " 'cotton',\n",
       " 'gin',\n",
       " 'in',\n",
       " 'stamford',\n",
       " 'and',\n",
       " 'several',\n",
       " 'more',\n",
       " 'within',\n",
       " 'of',\n",
       " 'the',\n",
       " 'city',\n",
       " 'other',\n",
       " 'businesses',\n",
       " 'include',\n",
       " 'a',\n",
       " 'cotton',\n",
       " 'del',\n",
       " 'in',\n",
       " 'ting',\n",
       " 'plant',\n",
       " 'cotton',\n",
       " 'compress',\n",
       " 'cottonseed',\n",
       " 'oil',\n",
       " 'mill',\n",
       " 'clothing',\n",
       " 'factory',\n",
       " 'and',\n",
       " 'grain',\n",
       " 'elevator']"
      ]
     },
     "execution_count": 6,
     "metadata": {},
     "output_type": "execute_result"
    }
   ],
   "source": [
    "segment(text1)\n"
   ]
  },
  {
   "cell_type": "code",
   "execution_count": 7,
   "metadata": {},
   "outputs": [
    {
     "name": "stdout",
     "output_type": "stream",
     "text": [
      "['Itoriginatedfromtheideathattherearereaderswho', 'prefer', 'learning', 'new', 'skills', 'from', 'the', 'comforts', 'of', 'their', 'drawing', 'rooms']\n"
     ]
    }
   ],
   "source": [
    "import nltk\n",
    "\n",
    "word_data = \"Itoriginatedfromtheideathattherearereaderswho prefer learning new skills from the comforts of their drawing rooms\"\n",
    "seg2      = \"00000000000100000000000000000001000000000000000000010000000000000000000100000000000000000000000000100000001000001\"\n",
    "seg1      = \"01000000000100010010001000100001001000000100100000010000000010001000000100001000100000000100100000100000001000001\"\n",
    "nltk_tokens = nltk.word_tokenize(word_data)\n",
    "print (nltk_tokens)"
   ]
  },
  {
   "cell_type": "code",
   "execution_count": 8,
   "metadata": {},
   "outputs": [],
   "source": [
    "def segment1(text, segs):\n",
    "    words = []\n",
    "    last = 0\n",
    "    for i in range(len(segs)):\n",
    "        if segs[i] == '1':\n",
    "            words.append(text[last:i+1])\n",
    "            last = i+1\n",
    "    words.append(text[last:])\n",
    "    return words\n"
   ]
  },
  {
   "cell_type": "code",
   "execution_count": 9,
   "metadata": {
    "scrolled": true
   },
   "outputs": [
    {
     "data": {
      "text/plain": [
       "['It',\n",
       " 'originated',\n",
       " 'from',\n",
       " 'the',\n",
       " 'idea',\n",
       " 'that',\n",
       " 'there',\n",
       " 'are',\n",
       " 'readers',\n",
       " 'who',\n",
       " ' prefer',\n",
       " ' learning',\n",
       " ' new',\n",
       " ' skills',\n",
       " ' from',\n",
       " ' the',\n",
       " ' comforts',\n",
       " ' of',\n",
       " ' their',\n",
       " ' drawing',\n",
       " ' rooms',\n",
       " '']"
      ]
     },
     "execution_count": 9,
     "metadata": {},
     "output_type": "execute_result"
    }
   ],
   "source": [
    "segment1(word_data,seg1)"
   ]
  },
  {
   "cell_type": "code",
   "execution_count": 15,
   "metadata": {},
   "outputs": [],
   "source": [
    "def evaluate(text, segs):\n",
    "    words = segment1(text, segs)\n",
    "    text_size = len(words)\n",
    "    lexicon_size = sum(len(word) + 1 for word in set(words))\n",
    "    return text_size + lexicon_size"
   ]
  },
  {
   "cell_type": "code",
   "execution_count": 16,
   "metadata": {},
   "outputs": [],
   "source": [
    "from random import randint\n",
    "\n",
    "def flip(segs, pos):\n",
    "    return segs[:pos] + str(1-int(segs[pos])) + segs[pos+1:]\n",
    "\n",
    "def flip_n(segs, n):\n",
    "    for i in range(n):\n",
    "        segs = flip(segs, randint(0, len(segs)-1))\n",
    "    return segs\n",
    "\n",
    "def anneal(text, segs, iterations, cooling_rate):\n",
    "    temperature = float(len(segs))\n",
    "    while temperature > 0.5:\n",
    "        best_segs, best = segs, evaluate(text, segs)\n",
    "        for i in range(iterations):\n",
    "            guess = flip_n(segs, round(temperature))\n",
    "            score = evaluate(text, guess)\n",
    "            if score < best:\n",
    "                best, best_segs = score, guess\n",
    "        score, segs = best, best_segs\n",
    "        temperature = temperature / cooling_rate\n",
    "        print(evaluate(text, segs), segment1(text, segs))\n",
    "    print()\n",
    "    return segs"
   ]
  },
  {
   "cell_type": "code",
   "execution_count": 23,
   "metadata": {
    "scrolled": true
   },
   "outputs": [
    {
     "name": "stdout",
     "output_type": "stream",
     "text": [
      "117 ['Itori', 'ginatedfromtheideathattherearereaderswho prefer learning new skills from the comforts of their drawing rooms']\n",
      "117 ['Itori', 'ginatedfromtheideathattherearereaderswho prefer learning new skills from the comforts of their drawing rooms']\n",
      "115 ['Itoriginatedfromtheideathattherearereaderswho prefer learning new skills from the comforts of their drawing rooms']\n",
      "115 ['Itoriginatedfromtheideathattherearereaderswho prefer learning new skills from the comforts of their drawing rooms']\n",
      "115 ['Itoriginatedfromtheideathattherearereaderswho prefer learning new skills from the comforts of their drawing rooms']\n",
      "115 ['Itoriginatedfromtheideathattherearereaderswho prefer learning new skills from the comforts of their drawing rooms']\n",
      "115 ['Itoriginatedfromtheideathattherearereaderswho prefer learning new skills from the comforts of their drawing rooms']\n",
      "115 ['Itoriginatedfromtheideathattherearereaderswho prefer learning new skills from the comforts of their drawing rooms']\n",
      "115 ['Itoriginatedfromtheideathattherearereaderswho prefer learning new skills from the comforts of their drawing rooms']\n",
      "115 ['Itoriginatedfromtheideathattherearereaderswho prefer learning new skills from the comforts of their drawing rooms']\n",
      "\n"
     ]
    },
    {
     "data": {
      "text/plain": [
       "'000000000000000000000'"
      ]
     },
     "execution_count": 23,
     "metadata": {},
     "output_type": "execute_result"
    }
   ],
   "source": [
    "anneal(word_data, seg1, 3000, 1.5)\n"
   ]
  },
  {
   "cell_type": "code",
   "execution_count": 18,
   "metadata": {},
   "outputs": [
    {
     "name": "stdout",
     "output_type": "stream",
     "text": [
      "['``', 'BugsBunny', \"''\", '(', '1940-1964', ')']\n"
     ]
    }
   ],
   "source": [
    "import nltk\n",
    "\n",
    "text = '\"BugsBunny\"(1940-1964)'\n",
    "seg2 = \"000010000010000000000\"\n",
    "seg1 = \"000010000000000000000\"\n",
    "nltk_tokens = nltk.word_tokenize(text)\n",
    "print (nltk_tokens)"
   ]
  },
  {
   "cell_type": "code",
   "execution_count": 19,
   "metadata": {
    "scrolled": true
   },
   "outputs": [
    {
     "data": {
      "text/plain": [
       "['\"Bugs', 'Bunny\"(1940-1964)']"
      ]
     },
     "execution_count": 19,
     "metadata": {},
     "output_type": "execute_result"
    }
   ],
   "source": [
    "l=segment1(text,seg1)\n",
    "l"
   ]
  },
  {
   "cell_type": "code",
   "execution_count": 20,
   "metadata": {},
   "outputs": [
    {
     "data": {
      "text/plain": [
       "'\"Bugs Bunny\"(1940-1964)'"
      ]
     },
     "execution_count": 20,
     "metadata": {},
     "output_type": "execute_result"
    }
   ],
   "source": [
    "' '.join(l)"
   ]
  },
  {
   "cell_type": "code",
   "execution_count": 21,
   "metadata": {},
   "outputs": [
    {
     "name": "stdout",
     "output_type": "stream",
     "text": [
      "26 ['\"BugsBunny\"(1940-', '1964)']\n",
      "26 ['\"BugsBunny\"(1940-', '1964)']\n",
      "26 ['\"BugsBunny\"(1940-', '1964)']\n",
      "26 ['\"BugsBunny\"(1940-', '1964)']\n",
      "26 ['\"BugsBunny\"(1940-', '1964)']\n",
      "26 ['\"BugsBunny\"(1940-', '1964)']\n",
      "24 ['\"BugsBunny\"(1940-1964)']\n",
      "24 ['\"BugsBunny\"(1940-1964)']\n",
      "24 ['\"BugsBunny\"(1940-1964)']\n",
      "24 ['\"BugsBunny\"(1940-1964)']\n",
      "24 ['\"BugsBunny\"(1940-1964)']\n",
      "24 ['\"BugsBunny\"(1940-1964)']\n",
      "24 ['\"BugsBunny\"(1940-1964)']\n",
      "24 ['\"BugsBunny\"(1940-1964)']\n",
      "24 ['\"BugsBunny\"(1940-1964)']\n",
      "24 ['\"BugsBunny\"(1940-1964)']\n",
      "24 ['\"BugsBunny\"(1940-1964)']\n",
      "24 ['\"BugsBunny\"(1940-1964)']\n",
      "24 ['\"BugsBunny\"(1940-1964)']\n",
      "24 ['\"BugsBunny\"(1940-1964)']\n",
      "24 ['\"BugsBunny\"(1940-1964)']\n",
      "\n"
     ]
    },
    {
     "data": {
      "text/plain": [
       "'000000000000000000000'"
      ]
     },
     "execution_count": 21,
     "metadata": {},
     "output_type": "execute_result"
    }
   ],
   "source": [
    "anneal(text, seg2, 5000, 1.2)\n"
   ]
  },
  {
   "cell_type": "code",
   "execution_count": null,
   "metadata": {},
   "outputs": [],
   "source": []
  }
 ],
 "metadata": {
  "kernelspec": {
   "display_name": "Python 3",
   "language": "python",
   "name": "python3"
  },
  "language_info": {
   "codemirror_mode": {
    "name": "ipython",
    "version": 3
   },
   "file_extension": ".py",
   "mimetype": "text/x-python",
   "name": "python",
   "nbconvert_exporter": "python",
   "pygments_lexer": "ipython3",
   "version": "3.6.5"
  }
 },
 "nbformat": 4,
 "nbformat_minor": 2
}
